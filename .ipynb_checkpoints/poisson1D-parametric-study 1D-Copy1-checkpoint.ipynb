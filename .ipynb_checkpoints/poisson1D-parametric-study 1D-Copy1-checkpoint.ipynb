{
 "cells": [
  {
   "cell_type": "code",
   "execution_count": 1,
   "metadata": {},
   "outputs": [],
   "source": [
    "from fenics import *\n",
    "import mshr\n",
    "import numpy as np\n",
    "import matplotlib.pyplot as plt\n",
    "from egfcore import *\n",
    "from utils import *\n",
    "\n",
    "set_log_level(30)\n",
    "%matplotlib widget"
   ]
  },
  {
   "cell_type": "code",
   "execution_count": 2,
   "metadata": {},
   "outputs": [],
   "source": [
    "class Simulator:\n",
    "    \n",
    "    def __init__(self, meshDensity):\n",
    "        self.mesh = IntervalMesh(meshDensity,0,1) # (meshDensity = N_sensors) =  # of positions at which the problem is discretized on a unit interval\n",
    "        mesh_dict = {\"X\": self.mesh.coordinates()}\n",
    "        scipy.io.savemat(\"mesh.mat\", mesh_dict)\n",
    "        self.V = FunctionSpace(self.mesh, 'P', 2)\n",
    "        \n",
    "        # Define the function space and store the meshweights for computation.\n",
    "        V = FunctionSpace(self.mesh,'P',1)\n",
    "        u = TestFunction(V)\n",
    "        temp = assemble(u*dx)\n",
    "        self.meshweights = (temp.get_local()[vertex_to_dof_map(V)]).reshape(-1,1)\n",
    "        \n",
    "        mesh_dict = {\"X\": self.mesh.coordinates()}\n",
    "        scipy.io.savemat(\"mesh2D.mat\", mesh_dict)\n",
    "        \n",
    "        # Create variational form for the problem\n",
    "        self.bc = self.boundaryConditions()\n",
    "        u = TrialFunction(self.V)\n",
    "        v = TestFunction(self.V)\n",
    "        self.f = Function(V)\n",
    "        self.param = Constant(0)\n",
    "        self.d2v = dof_to_vertex_map(V)\n",
    "        self.a = dot(grad(u), grad(v))* dx\n",
    "        self.L = self.f*v*dx\n",
    "        self.u = Function(self.V)\n",
    "        \n",
    "    def boundaryConditions(self):\n",
    "        \"\"\"\n",
    "        Define homogeneous Dirichlet Boundary conditions for the problem.\n",
    "        \"\"\"\n",
    "        def boundary(x, on_boundary):\n",
    "            return on_boundary\n",
    "        \n",
    "        u_D = Constant(0)\n",
    "        bc = DirichletBC(self.V, u_D, boundary)\n",
    "        \n",
    "        return bc\n",
    "    \n",
    "    def solve(self, forcing, noise_level = None, param=None):\n",
    "        \"\"\"\n",
    "        Given a (N_sensors x 1) forcing vector, solve the a 1D Poisson problem on a unit interval.\n",
    "        \"\"\"\n",
    "        \n",
    "        self.f.vector()[:] = forcing[self.d2v] # Instantiate the source term in the variational form by interpolating the sampled sourcing term.\n",
    "        if param is not None:\n",
    "            self.param.assign(param) # Define the parameter for the problem\n",
    "        solve(self.a == self.L, self.u, self.bc) # Solve the variation form\n",
    "\n",
    "        # Sample the solution at the nodes of the mesh.\n",
    "        solution = self.u.compute_vertex_values(self.mesh)\n",
    "        \n",
    "        # As specified, add IID Gaussian white noise.\n",
    "        if noise_level is not None:\n",
    "            noise =  noise_level*np.random.normal(0,np.abs(solution.mean()),solution.shape)\n",
    "            solution += noise\n",
    "        \n",
    "        return solution"
   ]
  },
  {
   "cell_type": "code",
   "execution_count": 3,
   "metadata": {},
   "outputs": [],
   "source": [
    "def exactGreen(domain, param):\n",
    "    x, s = np.meshgrid(domain,domain)\n",
    "    G = np.empty(np.shape(x))\n",
    "    for i in range(x.shape[0]):\n",
    "        for j in range(x.shape[0]):\n",
    "            xx, ss = x[i,j], s[i,j]\n",
    "            if xx <= ss:\n",
    "                G[i,j] = xx * (1-ss)\n",
    "            else:\n",
    "                G[i,j] = ss * (1-xx)\n",
    "    return G"
   ]
  },
  {
   "cell_type": "code",
   "execution_count": 4,
   "metadata": {},
   "outputs": [
    {
     "name": "stdout",
     "output_type": "stream",
     "text": [
      "Method: Coefficient fit | meshDensity: 2000, sigma: 0.0025, nSamples: 100, rank: 100, Noise: False\n",
      "Warning: Not a low-rank function. \n",
      "> In chebfun2/constructor (line 121)\n",
      "In chebfun2 (line 82)\n",
      "In sample1D (line 11)\n",
      "In run (line 91) \n",
      "Method: Coefficient fit | meshDensity: 2000, sigma: 0.0025, nSamples: 250, rank: 100, Noise: False\n",
      "Warning: Not a low-rank function. \n",
      "> In chebfun2/constructor (line 121)\n",
      "In chebfun2 (line 82)\n",
      "In sample1D (line 11)\n",
      "In run (line 91) \n",
      "Method: Coefficient fit | meshDensity: 2000, sigma: 0.0025, nSamples: 500, rank: 100, Noise: False\n",
      "Warning: Not a low-rank function. \n",
      "> In chebfun2/constructor (line 121)\n",
      "In chebfun2 (line 82)\n",
      "In sample1D (line 11)\n",
      "In run (line 91) \n",
      "Method: Coefficient fit | meshDensity: 2000, sigma: 0.0025, nSamples: 750, rank: 100, Noise: False\n",
      "Warning: Not a low-rank function. \n",
      "> In chebfun2/constructor (line 121)\n",
      "In chebfun2 (line 82)\n",
      "In sample1D (line 11)\n",
      "In run (line 91) \n",
      "Method: Coefficient fit | meshDensity: 2000, sigma: 0.0025, nSamples: 1000, rank: 100, Noise: False\n",
      "Warning: Not a low-rank function. \n",
      "> In chebfun2/constructor (line 121)\n",
      "In chebfun2 (line 82)\n",
      "In sample1D (line 11)\n",
      "In run (line 91) \n",
      "Method: Coefficient fit | meshDensity: 2000, sigma: 0.0025, nSamples: 2000, rank: 100, Noise: False\n",
      "Warning: Not a low-rank function. \n",
      "> In chebfun2/constructor (line 121)\n",
      "In chebfun2 (line 82)\n",
      "In sample1D (line 11)\n",
      "In run (line 91) \n",
      "Method: Coefficient fit | meshDensity: 2000, sigma: 0.0025, nSamples: 100, rank: 100, Noise: False\n",
      "Warning: Not a low-rank function. \n",
      "> In chebfun2/constructor (line 121)\n",
      "In chebfun2 (line 82)\n",
      "In sample1D (line 11)\n",
      "In run (line 91) \n",
      "Method: Coefficient fit | meshDensity: 2000, sigma: 0.0025, nSamples: 250, rank: 100, Noise: False\n",
      "Warning: Not a low-rank function. \n",
      "> In chebfun2/constructor (line 121)\n",
      "In chebfun2 (line 82)\n",
      "In sample1D (line 11)\n",
      "In run (line 91) \n",
      "Method: Coefficient fit | meshDensity: 2000, sigma: 0.0025, nSamples: 500, rank: 100, Noise: False\n",
      "Warning: Not a low-rank function. \n",
      "> In chebfun2/constructor (line 121)\n",
      "In chebfun2 (line 82)\n",
      "In sample1D (line 11)\n",
      "In run (line 91) \n",
      "Method: Coefficient fit | meshDensity: 2000, sigma: 0.0025, nSamples: 750, rank: 100, Noise: False\n",
      "Warning: Not a low-rank function. \n",
      "> In chebfun2/constructor (line 121)\n",
      "In chebfun2 (line 82)\n",
      "In sample1D (line 11)\n",
      "In run (line 91) \n",
      "Method: Coefficient fit | meshDensity: 2000, sigma: 0.0025, nSamples: 1000, rank: 100, Noise: False\n",
      "Warning: Not a low-rank function. \n",
      "> In chebfun2/constructor (line 121)\n",
      "In chebfun2 (line 82)\n",
      "In sample1D (line 11)\n",
      "In run (line 91) \n",
      "Method: Coefficient fit | meshDensity: 2000, sigma: 0.0025, nSamples: 2000, rank: 100, Noise: False\n",
      "Warning: Not a low-rank function. \n",
      "> In chebfun2/constructor (line 121)\n",
      "In chebfun2 (line 82)\n",
      "In sample1D (line 11)\n",
      "In run (line 91) \n",
      "Method: Coefficient fit | meshDensity: 2000, sigma: 0.0025, nSamples: 100, rank: 100, Noise: False\n",
      "Warning: Not a low-rank function. \n",
      "> In chebfun2/constructor (line 121)\n",
      "In chebfun2 (line 82)\n",
      "In sample1D (line 11)\n",
      "In run (line 91) \n",
      "Method: Coefficient fit | meshDensity: 2000, sigma: 0.0025, nSamples: 250, rank: 100, Noise: False\n",
      "Warning: Not a low-rank function. \n",
      "> In chebfun2/constructor (line 121)\n",
      "In chebfun2 (line 82)\n",
      "In sample1D (line 11)\n",
      "In run (line 91) \n",
      "Method: Coefficient fit | meshDensity: 2000, sigma: 0.0025, nSamples: 500, rank: 100, Noise: False\n",
      "Warning: Not a low-rank function. \n",
      "> In chebfun2/constructor (line 121)\n",
      "In chebfun2 (line 82)\n",
      "In sample1D (line 11)\n",
      "In run (line 91) \n",
      "Method: Coefficient fit | meshDensity: 2000, sigma: 0.0025, nSamples: 750, rank: 100, Noise: False\n",
      "Warning: Not a low-rank function. \n",
      "> In chebfun2/constructor (line 121)\n",
      "In chebfun2 (line 82)\n",
      "In sample1D (line 11)\n",
      "In run (line 91) \n",
      "Method: Coefficient fit | meshDensity: 2000, sigma: 0.0025, nSamples: 1000, rank: 100, Noise: False\n",
      "Warning: Not a low-rank function. \n",
      "> In chebfun2/constructor (line 121)\n",
      "In chebfun2 (line 82)\n",
      "In sample1D (line 11)\n",
      "In run (line 91) \n",
      "Method: Coefficient fit | meshDensity: 2000, sigma: 0.0025, nSamples: 2000, rank: 100, Noise: False\n",
      "Warning: Not a low-rank function. \n",
      "> In chebfun2/constructor (line 121)\n",
      "In chebfun2 (line 82)\n",
      "In sample1D (line 11)\n",
      "In run (line 91) \n",
      "Method: Coefficient fit | meshDensity: 2000, sigma: 0.0025, nSamples: 100, rank: 100, Noise: False\n",
      "Warning: Not a low-rank function. \n",
      "> In chebfun2/constructor (line 121)\n",
      "In chebfun2 (line 82)\n",
      "In sample1D (line 11)\n",
      "In run (line 91) \n",
      "Method: Coefficient fit | meshDensity: 2000, sigma: 0.0025, nSamples: 250, rank: 100, Noise: False\n",
      "Warning: Not a low-rank function. \n",
      "> In chebfun2/constructor (line 121)\n",
      "In chebfun2 (line 82)\n",
      "In sample1D (line 11)\n",
      "In run (line 91) \n",
      "Method: Coefficient fit | meshDensity: 2000, sigma: 0.0025, nSamples: 500, rank: 100, Noise: False\n",
      "Warning: Not a low-rank function. \n",
      "> In chebfun2/constructor (line 121)\n",
      "In chebfun2 (line 82)\n",
      "In sample1D (line 11)\n",
      "In run (line 91) \n",
      "Method: Coefficient fit | meshDensity: 2000, sigma: 0.0025, nSamples: 750, rank: 100, Noise: False\n",
      "Warning: Not a low-rank function. \n",
      "> In chebfun2/constructor (line 121)\n",
      "In chebfun2 (line 82)\n",
      "In sample1D (line 11)\n",
      "In run (line 91) \n",
      "Method: Coefficient fit | meshDensity: 2000, sigma: 0.0025, nSamples: 1000, rank: 100, Noise: False\n",
      "Warning: Not a low-rank function. \n",
      "> In chebfun2/constructor (line 121)\n",
      "In chebfun2 (line 82)\n",
      "In sample1D (line 11)\n",
      "In run (line 91) \n",
      "Method: Coefficient fit | meshDensity: 2000, sigma: 0.0025, nSamples: 2000, rank: 100, Noise: False\n",
      "Warning: Not a low-rank function. \n",
      "> In chebfun2/constructor (line 121)\n",
      "In chebfun2 (line 82)\n",
      "In sample1D (line 11)\n",
      "In run (line 91) \n",
      "Method: Coefficient fit | meshDensity: 2000, sigma: 0.0025, nSamples: 100, rank: 100, Noise: False\n",
      "Warning: Not a low-rank function. \n",
      "> In chebfun2/constructor (line 121)\n",
      "In chebfun2 (line 82)\n",
      "In sample1D (line 11)\n",
      "In run (line 91) \n",
      "Method: Coefficient fit | meshDensity: 2000, sigma: 0.0025, nSamples: 250, rank: 100, Noise: False\n",
      "Warning: Not a low-rank function. \n",
      "> In chebfun2/constructor (line 121)\n",
      "In chebfun2 (line 82)\n",
      "In sample1D (line 11)\n",
      "In run (line 91) \n",
      "Method: Coefficient fit | meshDensity: 2000, sigma: 0.0025, nSamples: 500, rank: 100, Noise: False\n",
      "Warning: Not a low-rank function. \n",
      "> In chebfun2/constructor (line 121)\n",
      "In chebfun2 (line 82)\n",
      "In sample1D (line 11)\n",
      "In run (line 91) \n",
      "Method: Coefficient fit | meshDensity: 2000, sigma: 0.0025, nSamples: 750, rank: 100, Noise: False\n",
      "Warning: Not a low-rank function. \n",
      "> In chebfun2/constructor (line 121)\n",
      "In chebfun2 (line 82)\n",
      "In sample1D (line 11)\n",
      "In run (line 91) \n",
      "Method: Coefficient fit | meshDensity: 2000, sigma: 0.0025, nSamples: 1000, rank: 100, Noise: False\n",
      "Warning: Not a low-rank function. \n",
      "> In chebfun2/constructor (line 121)\n",
      "In chebfun2 (line 82)\n",
      "In sample1D (line 11)\n",
      "In run (line 91) \n",
      "Method: Coefficient fit | meshDensity: 2000, sigma: 0.0025, nSamples: 2000, rank: 100, Noise: False\n",
      "Warning: Not a low-rank function. \n",
      "> In chebfun2/constructor (line 121)\n",
      "In chebfun2 (line 82)\n",
      "In sample1D (line 11)\n",
      "In run (line 91) \n",
      "CPU times: user 1h 49min 39s, sys: 33min 50s, total: 2h 23min 29s\n",
      "Wall time: 6h 16min 10s\n"
     ]
    }
   ],
   "source": [
    "%%time\n",
    "add_noise = False\n",
    "noise_level = 0.1\n",
    "params = np.array([0])\n",
    "verbose = False\n",
    "\n",
    "np.random.seed(42)\n",
    "meshDensitySpace = np.array([2000]) #np.linspace(50, 500, 9)\n",
    "# meshDensitySpace = np.array([200]) #np.linspace(50, 500, 9)\n",
    "sigmaSpace = np.array([0.0025])  # np.logspace(-2, -1, 10) \n",
    "nSamplesSpace = np.array([100, 250, 500, 750, 1000, 2000]) #np.array([100, 200, 300, 400, 500, 600]) # np.linspace(50, 200, 16, dtype = 'I') \n",
    "# nSamplesSpace = np.array([100]) #np.array([100, 200, 300, 400, 500, 600]) # np.linspace(50, 200, 16, dtype = 'I') \n",
    "rankSpace = np.array([100]) #np.linspace(5, 50, 46, dtype = 'I') #np.array([20])\n",
    "\n",
    "runs = 5\n",
    "errors = np.empty((runs, meshDensitySpace.shape[0], sigmaSpace.shape[0], nSamplesSpace.shape[0], rankSpace.shape[0]))\n",
    "models = np.empty((runs, meshDensitySpace.shape[0], sigmaSpace.shape[0], nSamplesSpace.shape[0], rankSpace.shape[0]), dtype = 'O')\n",
    "\n",
    "for run in range(runs):\n",
    "    for i, meshDensity in enumerate(meshDensitySpace):\n",
    "        for j, sigma in enumerate(sigmaSpace):\n",
    "            for k, nSamples in enumerate(nSamplesSpace):\n",
    "                for l, rank in enumerate(rankSpace):\n",
    "                    print(f\"Method: Coefficient fit | meshDensity: {meshDensity}, sigma: {sigma}, nSamples: {nSamples}, rank: {rank}, Noise: {add_noise}\")\n",
    "                    Sim = Simulator(meshDensity)\n",
    "                    forcing = sampleforcing(sigma, nSamples, np.random.randint(1,1000))\n",
    "                    solution = np.zeros(forcing.shape)\n",
    "                    for s in range(solution.shape[1]):\n",
    "                        if verbose:\n",
    "                            print(\"i = %d / %d\"%(s+1, solution.shape[1]))\n",
    "                        if add_noise:\n",
    "                            solution[:,s] = Sim.solve(forcing[:,s], noise_level)\n",
    "                        else:\n",
    "                            solution[:,s] = Sim.solve(forcing[:,s])\n",
    "                    models[run, i,j,k,l] = EGF(\"coefficient-fit\", params, rank, Sim.mesh, forcing, solution, None, None, None, None, verbose = verbose)\n",
    "\n",
    "                    G_reconstruction = reconstructEGF1D(models[run, i,j,k,l])\n",
    "                    G = exactGreen(models[run, i,j,k,l].mesh.coordinates(), models[run, i,j,k,l].params[0])\n",
    "                    errors[run, i,j,k,l] = computeError(G_reconstruction, G)"
   ]
  },
  {
   "cell_type": "code",
   "execution_count": 5,
   "metadata": {},
   "outputs": [],
   "source": [
    "import matplotlib.ticker as mticker\n",
    "\n",
    "# My axis should display 10⁻¹ but you can switch to e-notation 1.00e+01\n",
    "def log_tick_formatter(val, pos=None):\n",
    "    return f\"$10^{{{int(val)}}}$\"  # remove int() if you don't use MaxNLocator\n",
    "    # return f\"{10**val:.2e}\"      # e-Notation"
   ]
  },
  {
   "cell_type": "code",
   "execution_count": 6,
   "metadata": {},
   "outputs": [],
   "source": [
    "error = np.mean(errors, axis = 0)"
   ]
  },
  {
   "cell_type": "code",
   "execution_count": 7,
   "metadata": {},
   "outputs": [
    {
     "data": {
      "text/plain": [
       "Text(0.0, 1.0, 'A')"
      ]
     },
     "execution_count": 7,
     "metadata": {},
     "output_type": "execute_result"
    },
    {
     "data": {
      "application/vnd.jupyter.widget-view+json": {
       "model_id": "29bb1ef8034f434ebf37ceba5ac83bc2",
       "version_major": 2,
       "version_minor": 0
      },
      "text/html": [
       "\n",
       "            <div style=\"display: inline-block;\">\n",
       "                <div class=\"jupyter-widgets widget-label\" style=\"text-align: center;\">\n",
       "                    Figure\n",
       "                </div>\n",
       "                <img src='data:image/png;base64,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' width=800.0/>\n",
       "            </div>\n",
       "        "
      ],
      "text/plain": [
       "Canvas(toolbar=Toolbar(toolitems=[('Home', 'Reset original view', 'home', 'home'), ('Back', 'Back to previous …"
      ]
     },
     "metadata": {},
     "output_type": "display_data"
    }
   ],
   "source": [
    "meshDensitySpace = np.array([2000]) #np.linspace(50, 500, 9)\n",
    "sigmaSpace = np.array([0.0025])  # np.logspace(-2, -1, 10) \n",
    "nSamplesSpace = np.array([100, 250, 500, 750, 1000, 2000]) #np.array([100, 200, 300, 400, 500, 600]) # np.linspace(50, 200, 16, dtype = 'I') \n",
    "rankSpace = np.array([100]) #np.linspace(5, 50, 46, dtype = 'I') #np.array([20])\n",
    "\n",
    "plt.figure(figsize = (8,6))\n",
    "plt.semilogy(nSamplesSpace,error[0,0,:,0])\n",
    "plt.xlabel('$N_{samples}$')\n",
    "plt.ylabel('Error $\\epsilon$')\n",
    "plt.xlim([0,2000])\n",
    "plt.title('A',loc ='left', weight = 'bold', size = 12)"
   ]
  },
  {
   "cell_type": "code",
   "execution_count": 25,
   "metadata": {},
   "outputs": [],
   "source": [
    "XYnSamples = np.vstack([nSamplesSpace,error.squeeze()])"
   ]
  },
  {
   "cell_type": "code",
   "execution_count": 27,
   "metadata": {},
   "outputs": [],
   "source": [
    "np.savetxt(\"numsamples.csv\", XYnSamples,\n",
    "              delimiter = \",\")"
   ]
  },
  {
   "cell_type": "code",
   "execution_count": 29,
   "metadata": {},
   "outputs": [],
   "source": [
    "# plt.figure(figsize = (8,6))\n",
    "# x,y = np.meshgrid(sigmaSpace, nSamplesSpace)\n",
    "# ax = plt.axes(projection='3d')\n",
    "# surf = ax.plot_surface(np.log10(x),y,errors[0,:,:,0].T, cmap = 'summer', vmin = np.min(errors[0,:,:,0]), vmax = np.max(errors[0,:,:,0]))\n",
    "# ax.xaxis.set_major_formatter(mticker.FuncFormatter(log_tick_formatter))\n",
    "# ax.xaxis.set_major_locator(mticker.MaxNLocator(integer=True))\n",
    "# plt.colorbar(surf)\n",
    "# plt.xlabel('$\\sigma$')\n",
    "# # plt.xlim([-2.5, -1])\n",
    "# plt.ylabel('$N_{samples}$')\n",
    "# # ax.zlabel('$\\epsilon$')\n",
    "# plt.title('Error $\\epsilon$')"
   ]
  },
  {
   "cell_type": "code",
   "execution_count": null,
   "metadata": {},
   "outputs": [
    {
     "name": "stdout",
     "output_type": "stream",
     "text": [
      "Method: Coefficient fit | meshDensity: 2000, sigma: 1.0, nSamples: 2000, rank: 500, Noise: False\n"
     ]
    }
   ],
   "source": [
    "%%time\n",
    "add_noise = False\n",
    "noise_level = 0.1\n",
    "params = np.array([0])\n",
    "verbose = False\n",
    "\n",
    "np.random.seed(42)\n",
    "\n",
    "runs = 1\n",
    "meshDensitySpace = np.array([2000]) #np.linspace(50, 500, 9)\n",
    "sigmaSpace = np.array([1, 0.5, 0.1, 0.05, 0.025, 0.01, 0.0075, 0.005, 0.0025])  # np.logspace(-2, -1, 10) \n",
    "# sigmaSpace = np.array([0.0075, 0.005, 0.0025])  # np.logspace(-2, -1, 10) \n",
    "nSamplesSpace = np.array([2000]) #np.array([100, 200, 300, 400, 500, 600]) # np.linspace(50, 200, 16, dtype = 'I') \n",
    "rankSpace = np.array([500]) #np.linspace(5, 50, 46, dtype = 'I') #np.array([20])\n",
    "\n",
    "errors2 = np.empty((runs, meshDensitySpace.shape[0], sigmaSpace.shape[0], nSamplesSpace.shape[0], rankSpace.shape[0]))\n",
    "models2 = np.empty((runs, meshDensitySpace.shape[0], sigmaSpace.shape[0], nSamplesSpace.shape[0], rankSpace.shape[0]), dtype = 'O')\n",
    "\n",
    "for run in range(runs):\n",
    "    for i, meshDensity in enumerate(meshDensitySpace):\n",
    "        for j, sigma in enumerate(sigmaSpace):\n",
    "            for k, nSamples in enumerate(nSamplesSpace):\n",
    "                for l, rank in enumerate(rankSpace):\n",
    "                    print(f\"Method: Coefficient fit | meshDensity: {meshDensity}, sigma: {sigma}, nSamples: {nSamples}, rank: {rank}, Noise: {add_noise}\")\n",
    "                    Sim = Simulator(meshDensity)\n",
    "                    forcing = sampleforcing(sigma, nSamples, np.random.randint(1,1000))\n",
    "                    solution = np.zeros(forcing.shape)\n",
    "                    for s in range(solution.shape[1]):\n",
    "                        if verbose:\n",
    "                            print(\"i = %d / %d\"%(s+1, solution.shape[1]))\n",
    "                        if add_noise:\n",
    "                            solution[:,s] = Sim.solve(forcing[:,s], noise_level)\n",
    "                        else:\n",
    "                            solution[:,s] = Sim.solve(forcing[:,s])\n",
    "                    models2[run, i,j,k,l] = EGF(\"coefficient-fit\", params, rank, Sim.mesh, forcing, solution, None, None, None, None, verbose = verbose)\n",
    "\n",
    "                    G_reconstruction = reconstructEGF1D(models2[run, i,j,k,l])\n",
    "                    G = exactGreen(models2[run, i,j,k,l].mesh.coordinates(), models2[run, i,j,k,l].params[0])\n",
    "                    errors2[run, i,j,k,l] = computeError(G_reconstruction, G)"
   ]
  },
  {
   "cell_type": "code",
   "execution_count": 6,
   "metadata": {},
   "outputs": [],
   "source": [
    "error2 = np.mean(errors2, axis = 0)"
   ]
  },
  {
   "cell_type": "code",
   "execution_count": 9,
   "metadata": {},
   "outputs": [
    {
     "data": {
      "text/plain": [
       "array([[[[0.00458442]],\n",
       "\n",
       "        [[0.00786087]],\n",
       "\n",
       "        [[0.00667437]]]])"
      ]
     },
     "execution_count": 9,
     "metadata": {},
     "output_type": "execute_result"
    }
   ],
   "source": [
    "error2"
   ]
  },
  {
   "cell_type": "code",
   "execution_count": 8,
   "metadata": {},
   "outputs": [
    {
     "data": {
      "text/plain": [
       "Text(0.0, 1.0, 'B')"
      ]
     },
     "execution_count": 8,
     "metadata": {},
     "output_type": "execute_result"
    },
    {
     "data": {
      "application/vnd.jupyter.widget-view+json": {
       "model_id": "cc0ca383a28d42c0b9fb7f78e67744f5",
       "version_major": 2,
       "version_minor": 0
      },
      "text/html": [
       "\n",
       "            <div style=\"display: inline-block;\">\n",
       "                <div class=\"jupyter-widgets widget-label\" style=\"text-align: center;\">\n",
       "                    Figure\n",
       "                </div>\n",
       "                <img src='data:image/png;base64,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' width=800.0/>\n",
       "            </div>\n",
       "        "
      ],
      "text/plain": [
       "Canvas(toolbar=Toolbar(toolitems=[('Home', 'Reset original view', 'home', 'home'), ('Back', 'Back to previous …"
      ]
     },
     "metadata": {},
     "output_type": "display_data"
    }
   ],
   "source": [
    "meshDensitySpace = np.array([2000]) #np.linspace(50, 500, 9)\n",
    "sigmaSpace = np.array([1, 0.5, 0.1, 0.05, 0.025, 0.01, 0.0075, 0.005, 0.0025])  # np.logspace(-2, -1, 10) \n",
    "nSamplesSpace = np.array([2000]) #np.array([100, 200, 300, 400, 500, 600]) # np.linspace(50, 200, 16, dtype = 'I') \n",
    "rankSpace = np.array([100]) #np.linspace(5, 50, 46, dtype = 'I') #np.array([20])\n",
    "\n",
    "plt.figure(figsize = (8,6))\n",
    "plt.loglog(sigmaSpace[-3:],error2[0,:,0,0])\n",
    "plt.xlabel('$\\\\sigma$')\n",
    "plt.ylabel('Error $\\epsilon$')\n",
    "plt.xlim(right = 1)\n",
    "plt.title('B',loc ='left', weight = 'bold', size = 12)"
   ]
  },
  {
   "cell_type": "code",
   "execution_count": 41,
   "metadata": {},
   "outputs": [
    {
     "data": {
      "text/plain": [
       "Text(0.0, 1.0, 'B')"
      ]
     },
     "execution_count": 41,
     "metadata": {},
     "output_type": "execute_result"
    },
    {
     "data": {
      "application/vnd.jupyter.widget-view+json": {
       "model_id": "62a7c3703bf94c60a5247f3c6bf23af7",
       "version_major": 2,
       "version_minor": 0
      },
      "text/html": [
       "\n",
       "            <div style=\"display: inline-block;\">\n",
       "                <div class=\"jupyter-widgets widget-label\" style=\"text-align: center;\">\n",
       "                    Figure\n",
       "                </div>\n",
       "                <img src='data:image/png;base64,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' width=800.0/>\n",
       "            </div>\n",
       "        "
      ],
      "text/plain": [
       "Canvas(toolbar=Toolbar(toolitems=[('Home', 'Reset original view', 'home', 'home'), ('Back', 'Back to previous …"
      ]
     },
     "metadata": {},
     "output_type": "display_data"
    }
   ],
   "source": [
    "meshDensitySpace = np.array([2000]) #np.linspace(50, 500, 9)\n",
    "sigmaSpace = np.array([1, 0.5, 0.1, 0.05, 0.025, 0.01, 0.0075, 0.005, 0.0025])  # np.logspace(-2, -1, 10) \n",
    "nSamplesSpace = np.array([2000]) #np.array([100, 200, 300, 400, 500, 600]) # np.linspace(50, 200, 16, dtype = 'I') \n",
    "rankSpace = np.array([100]) #np.linspace(5, 50, 46, dtype = 'I') #np.array([20])\n",
    "\n",
    "plt.figure(figsize = (8,6))\n",
    "plt.loglog(sigmaSpace,error[0,:,0,0])\n",
    "plt.xlabel('$\\\\sigma$')\n",
    "plt.ylabel('Error $\\epsilon$')\n",
    "plt.xlim(right = 1)\n",
    "plt.title('B',loc ='left', weight = 'bold', size = 12)"
   ]
  },
  {
   "cell_type": "code",
   "execution_count": 44,
   "metadata": {},
   "outputs": [],
   "source": [
    "XYsigma = np.vstack([sigmaSpace,error2.squeeze()])"
   ]
  },
  {
   "cell_type": "code",
   "execution_count": 45,
   "metadata": {},
   "outputs": [],
   "source": [
    "np.savetxt(\"sigma3.csv\", XYsigma,\n",
    "              delimiter = \",\")"
   ]
  },
  {
   "cell_type": "code",
   "execution_count": null,
   "metadata": {},
   "outputs": [],
   "source": [
    "%%time\n",
    "add_noise = False\n",
    "noise_level = 0.1\n",
    "params = np.array([0])\n",
    "verbose = False\n",
    "\n",
    "np.random.seed(42)\n",
    "\n",
    "runs = 5\n",
    "meshDensitySpace = np.array([2000]) #np.linspace(50, 500, 9)\n",
    "sigmaSpace = np.array([0.0025])  # np.logspace(-2, -1, 10) \n",
    "nSamplesSpace = np.array([2000]) #np.array([100, 200, 300, 400, 500, 600]) # np.linspace(50, 200, 16, dtype = 'I') \n",
    "rankSpace = np.array([10, 25, 50, 75, 100]) #np.linspace(5, 50, 46, dtype = 'I') #np.array([20])\n",
    "\n",
    "errors3 = np.empty((runs, meshDensitySpace.shape[0], sigmaSpace.shape[0], nSamplesSpace.shape[0], rankSpace.shape[0]))\n",
    "models3 = np.empty((runs, meshDensitySpace.shape[0], sigmaSpace.shape[0], nSamplesSpace.shape[0], rankSpace.shape[0]), dtype = 'O')\n",
    "\n",
    "for run in range(runs):\n",
    "    for i, meshDensity in enumerate(meshDensitySpace):\n",
    "        for j, sigma in enumerate(sigmaSpace):\n",
    "            for k, nSamples in enumerate(nSamplesSpace):\n",
    "                for l, rank in enumerate(rankSpace):\n",
    "                    print(f\"Method: Coefficient fit | meshDensity: {meshDensity}, sigma: {sigma}, nSamples: {nSamples}, rank: {rank}, Noise: {add_noise}\")\n",
    "                    Sim = Simulator(meshDensity)\n",
    "                    forcing = sampleforcing(sigma, nSamples, np.random.randint(1,1000))\n",
    "                    solution = np.zeros(forcing.shape)\n",
    "                    for s in range(solution.shape[1]):\n",
    "                        if verbose:\n",
    "                            print(\"i = %d / %d\"%(s+1, solution.shape[1]))\n",
    "                        if add_noise:\n",
    "                            solution[:,s] = Sim.solve(forcing[:,s], noise_level)\n",
    "                        else:\n",
    "                            solution[:,s] = Sim.solve(forcing[:,s])\n",
    "                    models3[run, i,j,k,l] = EGF(\"coefficient-fit\", params, rank, Sim.mesh, forcing, solution, None, None, None, None, verbose = verbose)\n",
    "\n",
    "                    G_reconstruction = reconstructEGF1D(models3[run, i,j,k,l])\n",
    "                    G = exactGreen(models3[run, i,j,k,l].mesh.coordinates(), models3[run, i,j,k,l].params[0])\n",
    "                    errors3[run, i,j,k,l] = computeError(G_reconstruction, G)"
   ]
  },
  {
   "cell_type": "code",
   "execution_count": null,
   "metadata": {},
   "outputs": [],
   "source": [
    "error3 = np.mean(errors3, axis = 0)"
   ]
  },
  {
   "cell_type": "code",
   "execution_count": null,
   "metadata": {},
   "outputs": [],
   "source": [
    "meshDensitySpace = np.array([2000]) #np.linspace(50, 500, 9)\n",
    "sigmaSpace = np.array([0.0025])  # np.logspace(-2, -1, 10) \n",
    "nSamplesSpace = np.array([2000]) #np.array([100, 200, 300, 400, 500, 600]) # np.linspace(50, 200, 16, dtype = 'I') \n",
    "rankSpace = np.array([10, 25, 50, 75, 100]) #np.linspace(5, 50, 46, dtype = 'I') #np.array([20])\n",
    "\n",
    "plt.semilogy(rankSpace,error3[0,0,0,:])\n",
    "plt.xlabel('Rank $K$')\n",
    "plt.ylabel('$\\epsilon$', rotation='horizontal', labelpad=15)\n",
    "plt.xlim([0,100])\n",
    "plt.title('C',loc ='left', weight = 'bold', size = 12)"
   ]
  },
  {
   "cell_type": "code",
   "execution_count": null,
   "metadata": {},
   "outputs": [],
   "source": [
    "meshDensitySpace = np.array([2000]) #np.linspace(50, 500, 9)\n",
    "sigmaSpace = np.array([0.0025])  # np.logspace(-2, -1, 10) \n",
    "nSamplesSpace = np.array([2000]) #np.array([100, 200, 300, 400, 500, 600]) # np.linspace(50, 200, 16, dtype = 'I') \n",
    "rankSpace = np.array([10, 25, 50, 75, 100]) #np.linspace(5, 50, 46, dtype = 'I') #np.array([20])\n",
    "\n",
    "plt.figure(figsize = (8,6))\n",
    "plt.semilogy(rankSpace,errors3[0,0,0,:])"
   ]
  },
  {
   "cell_type": "code",
   "execution_count": null,
   "metadata": {},
   "outputs": [],
   "source": [
    "XYrank = np.vstack([rankSpace,error.squeeze()])"
   ]
  },
  {
   "cell_type": "code",
   "execution_count": null,
   "metadata": {},
   "outputs": [],
   "source": [
    "np.savetxt(\"rank.csv\", XYrank,\n",
    "              delimiter = \",\")"
   ]
  },
  {
   "cell_type": "code",
   "execution_count": null,
   "metadata": {},
   "outputs": [],
   "source": [
    "# plt.figure(figsize = (8,6))\n",
    "# x,y = np.meshgrid(nSamplesSpace, rankSpace)\n",
    "# ax = plt.axes(projection='3d')\n",
    "# surf = ax.plot_surface(x,y,errors[0,0,:,:].T, cmap = 'summer', vmin = np.min(errors[0,0,:,:]), vmax = np.max(errors[0,0,:,:]))\n",
    "# plt.colorbar(surf)\n",
    "# # plt.zlabel('Relative error')\n",
    "# plt.title('G(x,s) errors')\n",
    "# plt.xlabel('$N_{samples}$')\n",
    "# plt.ylabel('$K$')\n",
    "# plt.title('Error $\\epsilon$')"
   ]
  },
  {
   "cell_type": "code",
   "execution_count": null,
   "metadata": {},
   "outputs": [],
   "source": [
    "def plotPaper(errors, errors2, errors3):\n",
    "    fig = plt.figure(figsize = (15,4))\n",
    "    \n",
    "    plt.tight_layout()\n",
    "    grid = plt.GridSpec(1, 3, wspace = 0.3, hspace = 0.2)\n",
    "    plt.subplots_adjust(left = 0.1, right = 0.95)\n",
    "\n",
    "    plt.subplot(grid[0, 0])\n",
    "    meshDensitySpace = np.array([2000]) #np.linspace(50, 500, 9)\n",
    "    sigmaSpace = np.array([0.0025])  # np.logspace(-2, -1, 10) \n",
    "    nSamplesSpace = np.array([100, 250, 500, 750, 1000, 2000]) #np.array([100, 200, 300, 400, 500, 600]) # np.linspace(50, 200, 16, dtype = 'I') \n",
    "    rankSpace = np.array([100]) #np.linspace(5, 50, 46, dtype = 'I') #np.array([20])\n",
    "\n",
    "\n",
    "    plt.semilogy(nSamplesSpace,errors[0,0,:,0])\n",
    "    plt.xlabel('$N_{samples}$')\n",
    "    plt.ylabel('$\\epsilon$', rotation='horizontal')\n",
    "    plt.xlim([0,2000])\n",
    "    plt.title('A',loc ='left', weight = 'bold', size = 12)\n",
    "\n",
    "    \n",
    "    plt.subplot(grid[0, 1])\n",
    "\n",
    "    meshDensitySpace = np.array([2000]) #np.linspace(50, 500, 9)\n",
    "    sigmaSpace = np.array([1, 0.5, 0.1, 0.05, 0.025, 0.01, 0.0075, 0.005, 0.0025])  # np.logspace(-2, -1, 10) \n",
    "    nSamplesSpace = np.array([2000]) #np.array([100, 200, 300, 400, 500, 600]) # np.linspace(50, 200, 16, dtype = 'I') \n",
    "    rankSpace = np.array([100]) #np.linspace(5, 50, 46, dtype = 'I') #np.array([20])\n",
    "    \n",
    "    plt.loglog(sigmaSpace,errors2[0,:,0,0])\n",
    "    plt.xlabel('$\\\\sigma$')\n",
    "    plt.ylabel('$\\epsilon$', rotation='horizontal')\n",
    "    plt.xlim(right = 1)\n",
    "    plt.title('B',loc ='left', weight = 'bold', size = 12)\n",
    "    \n",
    "    plt.subplot(grid[0, 2])\n",
    "    \n",
    "    meshDensitySpace = np.array([2000]) #np.linspace(50, 500, 9)\n",
    "    sigmaSpace = np.array([0.0025])  # np.logspace(-2, -1, 10) \n",
    "    nSamplesSpace = np.array([2000]) #np.array([100, 200, 300, 400, 500, 600]) # np.linspace(50, 200, 16, dtype = 'I') \n",
    "    rankSpace = np.array([10, 25, 50, 75, 100]) #np.linspace(5, 50, 46, dtype = 'I') #np.array([20])\n",
    "\n",
    "    plt.semilogy(rankSpace,errors3[0,0,0,:])\n",
    "    plt.xlabel('Rank $K$')\n",
    "    plt.ylabel('$\\epsilon$', rotation='horizontal', labelpad=15)\n",
    "    plt.xlim([0,100])\n",
    "    plt.title('C',loc ='left', weight = 'bold', size = 12)\n",
    "\n",
    "\n",
    "    "
   ]
  },
  {
   "cell_type": "code",
   "execution_count": null,
   "metadata": {},
   "outputs": [],
   "source": [
    "plt.close('all')\n",
    "plotPaper(errors, errors2, errors3)"
   ]
  }
 ],
 "metadata": {
  "kernelspec": {
   "display_name": "Python 3 (ipykernel)",
   "language": "python",
   "name": "python3"
  },
  "language_info": {
   "codemirror_mode": {
    "name": "ipython",
    "version": 3
   },
   "file_extension": ".py",
   "mimetype": "text/x-python",
   "name": "python",
   "nbconvert_exporter": "python",
   "pygments_lexer": "ipython3",
   "version": "3.9.7"
  }
 },
 "nbformat": 4,
 "nbformat_minor": 4
}
