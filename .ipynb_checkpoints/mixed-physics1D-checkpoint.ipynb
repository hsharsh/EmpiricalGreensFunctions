{
 "cells": [
  {
   "cell_type": "code",
   "execution_count": 1,
   "metadata": {},
   "outputs": [],
   "source": [
    "from fenics import *\n",
    "import mshr\n",
    "import numpy as np\n",
    "import matplotlib.pyplot as plt\n",
    "from egfcore import *\n",
    "from utils import *\n",
    "\n",
    "set_log_level(30)\n",
    "%matplotlib widget"
   ]
  },
  {
   "cell_type": "code",
   "execution_count": 2,
   "metadata": {},
   "outputs": [],
   "source": [
    "class Simulator:\n",
    "    \n",
    "    def __init__(self, meshDensity):\n",
    "        self.mesh = IntervalMesh(meshDensity,0,1) # (meshDensity = N_sensors) =  # of positions at which the problem is discretized on a unit interval\n",
    "        mesh_dict = {\"X\": self.mesh.coordinates()}\n",
    "        scipy.io.savemat(\"mesh.mat\", mesh_dict)\n",
    "        self.V = FunctionSpace(self.mesh, 'P', 2)\n",
    "        \n",
    "        # Define the function space and store the meshweights for computation.\n",
    "        V = FunctionSpace(self.mesh,'P',1)\n",
    "        u = TestFunction(V)\n",
    "        temp = assemble(u*dx)\n",
    "        self.meshweights = (temp.get_local()[vertex_to_dof_map(V)]).reshape(-1,1)\n",
    "        \n",
    "        mesh_dict = {\"X\": self.mesh.coordinates()}\n",
    "        scipy.io.savemat(\"mesh2D.mat\", mesh_dict)\n",
    "        \n",
    "        # Create variational form for the problem\n",
    "        self.bc = self.boundaryConditions()\n",
    "        u = TrialFunction(self.V)\n",
    "        v = TestFunction(self.V)\n",
    "        self.f = Function(V)\n",
    "        self.param = Constant(0)\n",
    "        self.d2v = dof_to_vertex_map(V)\n",
    "        jump = 0.25\n",
    "        d1 = Expression('0.5*(x[0] < jump ? 1 : 0)', jump = jump, degree = 2)\n",
    "        d2 = Expression('(x[0] > jump ? 1 : 0)', jump = jump, degree = 2)\n",
    "        self.a = (d1*(-dot(grad(u), grad(v)) + self.param*self.param*u*v) + d2*dot(grad(u), grad(v)))* dx\n",
    "        self.L = self.f*v*dx\n",
    "        self.u = Function(self.V)\n",
    "        \n",
    "    def boundaryConditions(self):\n",
    "        \"\"\"\n",
    "        Define homogeneous Dirichlet Boundary conditions for the problem.\n",
    "        \"\"\"\n",
    "        def boundary(x, on_boundary):\n",
    "            return on_boundary\n",
    "        \n",
    "        u_D = Constant(0)\n",
    "        bc = DirichletBC(self.V, u_D, boundary)\n",
    "        \n",
    "        return bc\n",
    "    \n",
    "    def solve(self, forcing, noise_level = None, param=None):\n",
    "        \"\"\"\n",
    "        Given a (N_sensors x 1) forcing vector, solve the a 1D mixed physics problem on a unit interval.\n",
    "        \"\"\"\n",
    "        \n",
    "        self.f.vector()[:] = forcing[self.d2v] # Instantiate the source term in the variational form by interpolating the sampled sourcing term.\n",
    "        if param is not None:\n",
    "            self.param.assign(param) # Define the parameter for the problem\n",
    "        solve(self.a == self.L, self.u, self.bc) # Solve the variation form\n",
    "\n",
    "        # Sample the solution at the nodes of the mesh.\n",
    "        solution = self.u.compute_vertex_values(self.mesh)\n",
    "        \n",
    "        # As specified, add IID Gaussian white noise.\n",
    "        if noise_level is not None:\n",
    "            noise =  noise_level*np.random.normal(0,np.abs(solution.mean()),solution.shape)\n",
    "            solution += noise\n",
    "        \n",
    "        return solution"
   ]
  },
  {
   "cell_type": "code",
   "execution_count": null,
   "metadata": {},
   "outputs": [
    {
     "name": "stdout",
     "output_type": "stream",
     "text": [
      "Method: Coefficient fit | meshDensity: 2000, sigma: 0.005, nSamples: 2000, rank: 100, Noise: False\n"
     ]
    }
   ],
   "source": [
    "%%time\n",
    "params = np.array([15.])\n",
    "add_noise = False\n",
    "noise_level = 0.1\n",
    "verbose = False\n",
    "\n",
    "meshDensity = 2000\n",
    "sigma = 0.005\n",
    "nSamples = 2000\n",
    "rank = 100\n",
    "    \n",
    "print(f\"Method: Coefficient fit | meshDensity: {meshDensity}, sigma: {sigma}, nSamples: {nSamples}, rank: {rank}, Noise: {add_noise}\")\n",
    "Sim = Simulator(meshDensity)\n",
    "\n",
    "meshweights = Sim.meshweights\n",
    "\n",
    "forcing = sampleforcing(sigma, nSamples)\n",
    "solution = np.zeros(forcing.shape)\n",
    "for i in range(solution.shape[1]):\n",
    "    if verbose:\n",
    "        print(\"i = %d / %d\"%(i+1, solution.shape[1]))\n",
    "    if add_noise:\n",
    "        solution[:,i] = Sim.solve(forcing[:,i], noise_level, params[0])\n",
    "    else:\n",
    "        solution[:,i] = Sim.solve(forcing[:,i], None, params[0])\n",
    "        \n",
    "model = EGF(\"coefficient-fit\", params, rank, Sim.mesh, forcing, solution, None, None, None, None, verbose = verbose)"
   ]
  },
  {
   "cell_type": "code",
   "execution_count": null,
   "metadata": {},
   "outputs": [],
   "source": [
    "plotGreen1D(model, -0.16,0.2)"
   ]
  },
  {
   "cell_type": "code",
   "execution_count": null,
   "metadata": {},
   "outputs": [],
   "source": [
    "samples = 100 # Compute empirical error for 100 samples but on the same mesh\n",
    "\n",
    "if add_noise:\n",
    "    empError = computeEmpiricalError(model, Sim, sigma, samples, noise_level)\n",
    "else:\n",
    "    empError = computeEmpiricalError(model, Sim, sigma, samples)\n",
    "\n",
    "print(f\"Max error: {np.max(empError)}\")\n",
    "print(f\"Mean error: {np.mean(empError)}\")"
   ]
  },
  {
   "cell_type": "code",
   "execution_count": null,
   "metadata": {},
   "outputs": [],
   "source": [
    "%%time\n",
    "params = np.array([15.])\n",
    "add_noise = False\n",
    "noise_level = 0.01\n",
    "verbose = False\n",
    "\n",
    "meshDensity = 2000\n",
    "sigma = 0.005\n",
    "rank = 100\n",
    "nSamples = rank\n",
    "\n",
    "np.random.seed(42)\n",
    "    \n",
    "print(f\"Method: Randomized SVD | meshDensity: {meshDensity}, sigma: {sigma}, nSamples: {nSamples}, rank: {rank}, Noise: {add_noise}\")\n",
    "Sim = Simulator(meshDensity)\n",
    "\n",
    "meshweights = Sim.meshweights\n",
    "\n",
    "# Generate an forcing and output ensemble by simulating Poisson problem with FENICS.\n",
    "forcing = sampleforcing(sigma, nSamples)\n",
    "solution = np.zeros(forcing.shape)\n",
    "for i in range(solution.shape[1]):\n",
    "    if verbose:\n",
    "        print(\"i = %d / %d\"%(i+1, solution.shape[1]))\n",
    "    if add_noise:\n",
    "        solution[:,i] = Sim.solve(forcing[:,i], noise_level, params[0])\n",
    "    else:\n",
    "        solution[:,i] = Sim.solve(forcing[:,i], None, params[0])\n",
    "\n",
    "if add_noise:\n",
    "    modelrandomized = EGF(\"randomized-svd\", params, rank, Sim.mesh, forcing, solution, noise_level, None, None, Sim, verbose = verbose)\n",
    "else:\n",
    "    modelrandomized = EGF(\"randomized-svd\", params, rank, Sim.mesh, forcing, solution, None, None, None, Sim, verbose = verbose)"
   ]
  },
  {
   "cell_type": "code",
   "execution_count": null,
   "metadata": {},
   "outputs": [],
   "source": [
    "plotGreen1D(modelrandomized, -0.16,0.2)"
   ]
  },
  {
   "cell_type": "code",
   "execution_count": null,
   "metadata": {},
   "outputs": [],
   "source": [
    "samples = 100 # Compute empirical error for 100 samples but on the same mesh\n",
    "\n",
    "if add_noise:\n",
    "    empError = computeEmpiricalError(modelrandomized, Sim, sigma, samples, noise_level)\n",
    "else:\n",
    "    empError = computeEmpiricalError(modelrandomized, Sim, sigma, samples)\n",
    "\n",
    "print(f\"Max error: {np.max(empError)}\")\n",
    "print(f\"Mean error: {np.mean(empError)}\")"
   ]
  },
  {
   "cell_type": "code",
   "execution_count": null,
   "metadata": {},
   "outputs": [],
   "source": [
    "def compareGreenpaper(model1, model2, vmin = None, vmax = None):\n",
    "    domain = model1.mesh.coordinates()\n",
    "    x, s = np.meshgrid(domain,domain)\n",
    "    plt.figure(figsize = (12,4))\n",
    "    plt.tight_layout()\n",
    "    plt.subplot(121)\n",
    "    \n",
    "    G_reconstruction = reconstructEGF1D(model1)\n",
    "    \n",
    "    surf = plt.contourf(x, s, G_reconstruction, 20, cmap = 'jet', vmin = vmin, vmax = vmax)\n",
    "    plt.gca().set_aspect('equal', adjustable='box')\n",
    "    plt.colorbar(surf,fraction=0.046, pad=0.04)\n",
    "    plt.clim(vmin, vmax)\n",
    "    plt.xlabel('x')\n",
    "    plt.ylabel('s', rotation='horizontal', labelpad=15)\n",
    "    plt.title(\"POD\")\n",
    "    \n",
    "    plt.subplot(122)\n",
    "    \n",
    "    G_reconstruction = reconstructEGF1D(model2)\n",
    "    \n",
    "    surf = plt.contourf(x, s, G_reconstruction, 20, cmap = 'jet', vmin = vmin, vmax = vmax)\n",
    "    plt.gca().set_aspect('equal', adjustable='box')\n",
    "    plt.colorbar(surf,fraction=0.046, pad=0.04)\n",
    "    plt.clim(vmin,vmax)\n",
    "    plt.xlabel('x')\n",
    "    plt.ylabel('s', rotation='horizontal', labelpad=15)\n",
    "    plt.title(\"Randomized SVD\")"
   ]
  },
  {
   "cell_type": "code",
   "execution_count": null,
   "metadata": {},
   "outputs": [],
   "source": [
    "compareGreenpaper(model, modelrandomized, -0.16, 0.2)"
   ]
  },
  {
   "cell_type": "code",
   "execution_count": null,
   "metadata": {},
   "outputs": [],
   "source": []
  }
 ],
 "metadata": {
  "kernelspec": {
   "display_name": "Python 3 (ipykernel)",
   "language": "python",
   "name": "python3"
  },
  "language_info": {
   "codemirror_mode": {
    "name": "ipython",
    "version": 3
   },
   "file_extension": ".py",
   "mimetype": "text/x-python",
   "name": "python",
   "nbconvert_exporter": "python",
   "pygments_lexer": "ipython3",
   "version": "3.9.7"
  }
 },
 "nbformat": 4,
 "nbformat_minor": 4
}
