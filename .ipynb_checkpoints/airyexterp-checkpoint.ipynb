{
 "cells": [
  {
   "cell_type": "code",
   "execution_count": 1,
   "metadata": {
    "tags": []
   },
   "outputs": [],
   "source": [
    "from fenics import *\n",
    "import mshr\n",
    "import numpy as np\n",
    "import matplotlib.pyplot as plt\n",
    "from egfcore import *\n",
    "from utils import *\n",
    "\n",
    "set_log_level(30)\n",
    "%matplotlib widget"
   ]
  },
  {
   "cell_type": "code",
   "execution_count": 2,
   "metadata": {},
   "outputs": [],
   "source": [
    "class Simulator:\n",
    "    \n",
    "    def __init__(self, meshDensity):\n",
    "        self.mesh = IntervalMesh(meshDensity,0,1) # (meshDensity = N_sensors) =  # of positions at which the problem is discretized on a unit interval\n",
    "        mesh_dict = {\"X\": self.mesh.coordinates()}\n",
    "        scipy.io.savemat(\"mesh.mat\", mesh_dict)\n",
    "        self.V = FunctionSpace(self.mesh, 'P', 2)\n",
    "        \n",
    "        V = FunctionSpace(self.mesh,'P',1)\n",
    "        u = TestFunction(V)\n",
    "        temp = assemble(u*dx)\n",
    "        self.meshweights = (temp.get_local()[vertex_to_dof_map(V)]).reshape(-1,1)\n",
    "        \n",
    "        \n",
    "    def boundaryConditions(self):\n",
    "        \"\"\"\n",
    "        Define homogeneous Dirichlet Boundary conditions for the problem\n",
    "        \"\"\"\n",
    "        def boundary(x, on_boundary):\n",
    "            return on_boundary\n",
    "        \n",
    "        u_D = Constant(0)\n",
    "        bc = DirichletBC(self.V, u_D, boundary)\n",
    "        \n",
    "        return bc\n",
    "        \n",
    "    def forcing(self, fvals):\n",
    "        V = FunctionSpace(self.mesh, 'P', 1)\n",
    "        f = Function(V)\n",
    "        d2v = dof_to_vertex_map(V)\n",
    "        f.vector()[:] = fvals[d2v]\n",
    "        return f\n",
    "        \n",
    "    def solve(self, forcing, noise_level = None, param = None):\n",
    "        \"\"\"\n",
    "        Given a (N_sensors x 1) forcing vector, solve the a 1D Poisson problem on a unit interval.\n",
    "        \"\"\"\n",
    "        N = np.shape(self.mesh.coordinates())[0]\n",
    "        \n",
    "        f = self.forcing(forcing)      \n",
    "        bc = self.boundaryConditions()\n",
    "\n",
    "        u = TrialFunction(self.V)\n",
    "        v = TestFunction(self.V)\n",
    "        \n",
    "        airy = Expression('K*K*x[0]', K = param, degree = 2)\n",
    "        a = (-dot(grad(u), grad(v)) - airy*u*v)* dx\n",
    "        L = f*v*dx\n",
    "        u = Function(self.V)\n",
    "        solve(a == L, u, bc)\n",
    "\n",
    "        solution = u.compute_vertex_values(self.mesh)\n",
    "\n",
    "        if noise_level is not None:\n",
    "            noise =  noise_level*np.random.normal(0,np.abs(solution.mean()),solution.shape)\n",
    "            solution += noise\n",
    "\n",
    "        return solution"
   ]
  },
  {
   "cell_type": "code",
   "execution_count": null,
   "metadata": {},
   "outputs": [
    {
     "name": "stdout",
     "output_type": "stream",
     "text": [
      "Airy (Theta = $ 7.0) | Method: Randomized SVD | meshDensity: 2000, sigma: 0.005, nSamples: 100, rank: 100, Noise: False\n",
      "Airy (Theta = $ 8.0) | Method: Randomized SVD | meshDensity: 2000, sigma: 0.005, nSamples: 100, rank: 100, Noise: False\n",
      "Airy (Theta = $ 9.0) | Method: Randomized SVD | meshDensity: 2000, sigma: 0.005, nSamples: 100, rank: 100, Noise: False\n",
      "Airy (Theta = $ 10.0) | Method: Randomized SVD | meshDensity: 2000, sigma: 0.005, nSamples: 100, rank: 100, Noise: False\n"
     ]
    }
   ],
   "source": [
    "%%time\n",
    "add_noise = False\n",
    "noise_level = 0.1\n",
    "\n",
    "# paramSet = np.array([[1.0], [2.0], [2.5], [3]])\n",
    "# paramSet = np.array([[1.0], [5.0], [7.0], [10.0]])\n",
    "paramSet = np.array([[7.0], [8.0], [9.0], [10.0]])\n",
    "\n",
    "meshDensity = 2000\n",
    "sigma = 0.005\n",
    "rank = 100\n",
    "nSamples = rank\n",
    "\n",
    "Sim = Simulator(meshDensity)\n",
    "models = []\n",
    "for i, params in enumerate(paramSet):\n",
    "\n",
    "    np.random.seed(42)\n",
    "\n",
    "    print(f\"Airy (Theta = $ {params[0]}) | Method: Randomized SVD | meshDensity: {meshDensity}, sigma: {sigma}, nSamples: {nSamples}, rank: {rank}, Noise: {add_noise}\")\n",
    "\n",
    "\n",
    "    meshweights = Sim.meshweights\n",
    "\n",
    "    # Generate an forcing and output ensemble by simulating Poisson problem with FENICS.\n",
    "    forcing = sampleforcing(sigma, nSamples)\n",
    "    solution = np.zeros(forcing.shape)\n",
    "    for i in range(solution.shape[1]):\n",
    "        if add_noise:\n",
    "            solution[:,i] = Sim.solve(forcing[:,i], noise_level, params[0])\n",
    "        else:\n",
    "            solution[:,i] = Sim.solve(forcing[:,i], None, params[0])\n",
    "\n",
    "    if add_noise:\n",
    "        model = EGF(\"randomized-svd\", params, rank, Sim.mesh, forcing, solution, noise_level, None, None, Sim, verbose = False)\n",
    "    else:\n",
    "        model = EGF(\"randomized-svd\", params, rank, Sim.mesh, forcing, solution, None, None, None, Sim, verbose = False)\n",
    "        \n",
    "    models.append(model)"
   ]
  },
  {
   "cell_type": "code",
   "execution_count": null,
   "metadata": {},
   "outputs": [],
   "source": [
    "plotGreen1D(models[3])"
   ]
  },
  {
   "cell_type": "code",
   "execution_count": null,
   "metadata": {
    "tags": []
   },
   "outputs": [],
   "source": [
    "%%time\n",
    "\n",
    "print(f\"Parameter set: {paramSet}\")\n",
    "interpSet = [models[0], models[1], models[2]]\n",
    "# interpSet = [models[0], models[2]]\n",
    "\n",
    "\n",
    "targetParam = paramSet[-1]\n",
    "targetModel = models[-1]\n",
    "inputdata = models[-1].forcing #compute_forcing(pSim.mesh, numSteps)\n",
    "simulator = Sim\n",
    "\n",
    "extrapModel, U_set, _ = model_interp(interpSet, simulator, inputdata, targetParam, verbose = False)"
   ]
  },
  {
   "cell_type": "code",
   "execution_count": null,
   "metadata": {},
   "outputs": [],
   "source": [
    "plt.figure()\n",
    "plt.plot(targetModel.dcoeffs,'b-', linewidth = 0.7, alpha = 1)\n",
    "plt.plot(extrapModel.dcoeffs,'r--', linewidth = 0.7, alpha = 1)\n",
    "plt.legend(['Target coefficients','Extrapolated coefficients'])\n",
    "plt.title('Coefficients (S)')"
   ]
  },
  {
   "cell_type": "code",
   "execution_count": null,
   "metadata": {
    "tags": []
   },
   "outputs": [],
   "source": [
    "plotGreen1D(extrapModel)\n",
    "plt.title('Extrapolated Model')\n",
    "print(extrapModel.params)"
   ]
  },
  {
   "cell_type": "code",
   "execution_count": null,
   "metadata": {
    "tags": []
   },
   "outputs": [],
   "source": [
    "plotGreen1D(targetModel)\n",
    "print(targetModel.params)\n",
    "plt.title('Target Model')"
   ]
  },
  {
   "cell_type": "code",
   "execution_count": null,
   "metadata": {
    "tags": []
   },
   "outputs": [],
   "source": [
    "# Manifold interpolation\n",
    "\n",
    "computeError(reconstructEGF1D(extrapModel), reconstructEGF1D(targetModel))"
   ]
  },
  {
   "cell_type": "code",
   "execution_count": null,
   "metadata": {},
   "outputs": [],
   "source": [
    "reconstruction = extrapModel.reconstruct_signal()\n",
    "signal = targetModel.signal\n",
    "\n",
    "err = plotEmpiricalError(solution, reconstruction)\n",
    "print(f\"Max error: {np.max(err)}\")\n",
    "print(f\"Mean error: {np.mean(err)}\")"
   ]
  },
  {
   "cell_type": "code",
   "execution_count": null,
   "metadata": {},
   "outputs": [],
   "source": [
    "def plotPaper(interpModel, targetModel, vmin = None, vmax = None):\n",
    "    domain = interpModel.mesh.coordinates()\n",
    "    x, s = np.meshgrid(domain,domain)\n",
    "    fig = plt.figure(figsize = (12,4))\n",
    "    \n",
    "    plt.tight_layout()\n",
    "    grid = plt.GridSpec(1, 2, wspace = 0.2, hspace = 0.3, left = 0.01)\n",
    "    plt.subplots_adjust(left = 0.1, right = 0.9)\n",
    "    \n",
    "    plt.subplot(grid[0,0])\n",
    "    G = reconstructEGF1D(interpModel)\n",
    "    \n",
    "    levels = np.linspace(vmin, vmax, 30)\n",
    "    surf = plt.contourf(x, s, G, levels = levels, cmap = 'jet', vmin = vmin, vmax = vmax)\n",
    "    plt.gca().set_aspect('equal', adjustable='box')\n",
    "    plt.colorbar(surf, ticks = np.linspace(vmin, vmax, 10), extend = 'max')\n",
    "    plt.clim(vmin, vmax) \n",
    "    plt.xlabel('x')\n",
    "    plt.ylabel('s', rotation='horizontal', labelpad=5)\n",
    "    plt.title(f\"Interp. Model ($\\\\theta = {interpModel.params[0]}$)\")\n",
    "    # plt.title('D',loc ='left', weight = 'bold', size = 12)\n",
    "    \n",
    "    plt.subplot(grid[0, 1])\n",
    "    G = reconstructEGF1D(targetModel)\n",
    "    \n",
    "    levels = np.linspace(vmin, vmax, 30)\n",
    "    plt.gca().set_aspect('equal', adjustable = 'box', anchor = (0,0))\n",
    "    surf = plt.contourf(x, s, G, levels = levels, cmap = 'jet', vmin = vmin, vmax = vmax)\n",
    "    plt.colorbar(surf, ticks = np.linspace(vmin, vmax, 10), panchor = False)\n",
    "    plt.xlabel('x')\n",
    "    plt.ylabel('s', rotation='horizontal', labelpad=5)\n",
    "    plt.title(f\"Target Model ($\\\\theta = {targetModel.params[0]}$)\")\n",
    "    # plt.title('E',loc ='left', weight = 'bold', size = 12)    "
   ]
  },
  {
   "cell_type": "code",
   "execution_count": null,
   "metadata": {},
   "outputs": [],
   "source": [
    "plotPaper(extrapModel, targetModel, vmin = -0.24, vmax = 0.03)"
   ]
  },
  {
   "cell_type": "code",
   "execution_count": null,
   "metadata": {},
   "outputs": [],
   "source": []
  }
 ],
 "metadata": {
  "kernelspec": {
   "display_name": "Python 3 (ipykernel)",
   "language": "python",
   "name": "python3"
  },
  "language_info": {
   "codemirror_mode": {
    "name": "ipython",
    "version": 3
   },
   "file_extension": ".py",
   "mimetype": "text/x-python",
   "name": "python",
   "nbconvert_exporter": "python",
   "pygments_lexer": "ipython3",
   "version": "3.9.7"
  }
 },
 "nbformat": 4,
 "nbformat_minor": 4
}
